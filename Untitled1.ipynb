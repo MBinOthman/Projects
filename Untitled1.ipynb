{
  "nbformat": 4,
  "nbformat_minor": 0,
  "metadata": {
    "colab": {
      "provenance": [],
      "authorship_tag": "ABX9TyO0MJE7DNcHyA2rnOIgXquJ",
      "include_colab_link": true
    },
    "kernelspec": {
      "name": "python3",
      "display_name": "Python 3"
    },
    "language_info": {
      "name": "python"
    }
  },
  "cells": [
    {
      "cell_type": "markdown",
      "metadata": {
        "id": "view-in-github",
        "colab_type": "text"
      },
      "source": [
        "<a href=\"https://colab.research.google.com/github/MBinOthman/Projects/blob/main/Untitled1.ipynb\" target=\"_parent\"><img src=\"https://colab.research.google.com/assets/colab-badge.svg\" alt=\"Open In Colab\"/></a>"
      ]
    },
    {
      "cell_type": "code",
      "execution_count": null,
      "metadata": {
        "id": "hyN8KdK7FtfO"
      },
      "outputs": [],
      "source": []
    },
    {
      "cell_type": "markdown",
      "source": [
        "# المحور الأول: بايثون\n"
      ],
      "metadata": {
        "id": "THvNEcG2GZ1j"
      }
    },
    {
      "cell_type": "markdown",
      "source": [
        "## تعريف المتغيرات"
      ],
      "metadata": {
        "id": "iFdfEHfwGqOR"
      }
    },
    {
      "cell_type": "markdown",
      "source": [],
      "metadata": {
        "id": "CX8zCfWpGt23"
      }
    },
    {
      "cell_type": "code",
      "source": [
        "print(\"Masar Is The Best\")"
      ],
      "metadata": {
        "id": "V1Et4O-5Gzwq"
      },
      "execution_count": null,
      "outputs": []
    },
    {
      "cell_type": "markdown",
      "source": [
        "## تعريف الدوال\n"
      ],
      "metadata": {
        "id": "4s-d06MXHF5K"
      }
    },
    {
      "cell_type": "code",
      "source": [],
      "metadata": {
        "id": "zt_gwKb1HOyj"
      },
      "execution_count": null,
      "outputs": []
    },
    {
      "cell_type": "markdown",
      "source": [
        "# New Section"
      ],
      "metadata": {
        "id": "TkxnqQTUHdUy"
      }
    },
    {
      "cell_type": "markdown",
      "source": [
        "# New Section"
      ],
      "metadata": {
        "id": "rKAPrGPKHeEz"
      }
    }
  ]
}